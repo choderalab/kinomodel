{
 "cells": [
  {
   "cell_type": "code",
   "execution_count": 10,
   "metadata": {},
   "outputs": [],
   "source": [
    "from docking import create_receptor, load_receptor, dock_molecule, pose_molecule\n",
    "import mdtraj as md\n",
    "from openeye import oedocking, oechem\n",
    "import openmoltools as moltools\n",
    "import os.path\n",
    "import os\n",
    "import glob"
   ]
  },
  {
   "cell_type": "code",
   "execution_count": 11,
   "metadata": {},
   "outputs": [],
   "source": [
    "pdb_directory = '../hauser-abl-benchmark/receptors'\n",
    "ligand_directory = '../hauser-abl-benchmark/ligands'"
   ]
  },
  {
   "cell_type": "code",
   "execution_count": 12,
   "metadata": {},
   "outputs": [],
   "source": [
    "pdbs = glob.glob(os.path.join(pdb_directory, '*'))\n",
    "pdbs_list = []\n",
    "for pdb in pdbs: \n",
    "    pdbs_list.append(os.path.basename(pdb))"
   ]
  },
  {
   "cell_type": "code",
   "execution_count": 13,
   "metadata": {},
   "outputs": [
    {
     "name": "stdout",
     "output_type": "stream",
     "text": [
      "gefitinib_wat\n",
      "gefitinib_nowat\n"
     ]
    }
   ],
   "source": [
    "for pdb in pdbs_list:\n",
    "    cocrystal = pdb.split('-')[1].split('_')[0]\n",
    "    if cocrystal == 'gefitinib':\n",
    "        cocrystal = pdb.split('-')[1].split('.')[0]\n",
    "        print(cocrystal)\n",
    "    cocrystal_path = os.path.join(ligand_directory, cocrystal + '.mol2')\n",
    "    receptor_path = os.path.join(pdb_directory, pdb)"
   ]
  },
  {
   "cell_type": "code",
   "execution_count": 37,
   "metadata": {},
   "outputs": [],
   "source": [
    "molecules_to_dock = ['C5=C(C1=CN=CC=C1)N=C(NC2=C(C=CC(=C2)NC(C3=CC=C(C=C3)CN4CCN(CC4)C)=O)C)N=C5 Imatinib', \n",
    "                    'C1=C(SC(=N1)NC2=CC(=NC(=N2)C)N3CCN(CC3)CCO)C(=O)NC4=C(C=CC=C4Cl)C Dasatinib', \n",
    "                    'Cc1ccc(cc1Nc2nccc(n2)c3cccnc3)C(=O)Nc4cc(cc(c4)n5cc(nc5)C)C(F)(F)F Nilotinib', \n",
    "                    'C1=C(C(=CC2=C1C(=C(C=N2)C#N)NC3=C(C=C(C(=C3)OC)Cl)Cl)OCCCN4CCN(CC4)C)OC Bosutinib', \n",
    "                    'Cc1ccc(cc1C#Cc2cnc3n2nccc3)C(=O)Nc4ccc(c(c4)C(F)(F)F)CN5CCN(CC5)C Ponatinib', \n",
    "                    'COc1cc2c(cc1OCCCN3CCOCC3)c(ncn2)Nc4ccc(c(c4)Cl)F Gefitinib', \n",
    "                    'COCCOc1cc2c(cc1OCCOC)ncnc2Nc3cccc(c3)C#C Erlotinib']"
   ]
  },
  {
   "cell_type": "code",
   "execution_count": null,
   "metadata": {},
   "outputs": [],
   "source": [
    "for pdb in pdbs_list:\n",
    "    cocrystal = pdb.split('-')[1].split('_')[0]\n",
    "    cocrystal_path = os.path.join(ligand_directory, cocrystal + '.mol2')\n",
    "    receptor_path = os.path.join(pdb_directory, pdb)\n",
    "    \n",
    "    # Load in protein \n",
    "    input_mol_stream = oechem.oemolistream(receptor_path)\n",
    "    protein_oemol = oechem.OEGraphMol()\n",
    "    oechem.OEReadMolecule(input_mol_stream, protein_oemol)\n",
    "\n",
    "    # Load in ligand \n",
    "    input_mol_stream = oechem.oemolistream(cocrystal_path)\n",
    "    ligand_oemol = oechem.OEGraphMol()\n",
    "    oechem.OEReadMolecule(input_mol_stream, ligand_oemol)\n",
    "    \n",
    "    receptor = oechem.OEGraphMol()\n",
    "    oedocking.OEMakeReceptor(receptor, protein_oemol, ligand_oemol)\n",
    "    \n",
    "    for mol in molecules_to_dock:\n",
    "        smiles, name = mol.split()\n",
    "        posed_molecule_file_path = '%s-posed-%s.mol2' % (pdb.split('.')[0], name)\n",
    "        posed_oemol = pose_molecule(receptor, smiles, n_poses=2)\n",
    "        moltools.openeye.molecule_to_mol2(posed_oemol, posed_molecule_file_path, residue_name='MOL')"
   ]
  },
  {
   "cell_type": "code",
   "execution_count": null,
   "metadata": {},
   "outputs": [],
   "source": []
  },
  {
   "cell_type": "code",
   "execution_count": 6,
   "metadata": {},
   "outputs": [
    {
     "data": {
      "text/plain": [
       "True"
      ]
     },
     "execution_count": 5,
     "metadata": {},
     "output_type": "execute_result"
    }
   ],
   "source": []
  },
  {
   "cell_type": "code",
   "execution_count": 8,
   "metadata": {},
   "outputs": [],
   "source": []
  },
  {
   "cell_type": "code",
   "execution_count": 9,
   "metadata": {},
   "outputs": [],
   "source": []
  },
  {
   "cell_type": "code",
   "execution_count": 10,
   "metadata": {},
   "outputs": [],
   "source": []
  },
  {
   "cell_type": "code",
   "execution_count": 21,
   "metadata": {},
   "outputs": [],
   "source": []
  },
  {
   "cell_type": "code",
   "execution_count": null,
   "metadata": {},
   "outputs": [],
   "source": []
  }
 ],
 "metadata": {
  "kernelspec": {
   "display_name": "Python 3",
   "language": "python",
   "name": "python3"
  },
  "language_info": {
   "codemirror_mode": {
    "name": "ipython",
    "version": 3
   },
   "file_extension": ".py",
   "mimetype": "text/x-python",
   "name": "python",
   "nbconvert_exporter": "python",
   "pygments_lexer": "ipython3",
   "version": "3.6.3"
  }
 },
 "nbformat": 4,
 "nbformat_minor": 2
}
